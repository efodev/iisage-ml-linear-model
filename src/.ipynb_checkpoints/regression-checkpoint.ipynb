{
 "cells": [
  {
   "cell_type": "markdown",
   "metadata": {},
   "source": [
    "## Install your dependencies\n",
    "\n",
    "For this tutorial we will a use few core AI/ML core libraries that will make our work easier without us having to rewrite everthing from stratch. To get started we will need to run the code cell below to install the these libraries. (Highlight the code cell followed by keying 'ctrl/cmd + /' to uncoment the code). The play button (or shift key + return/enter) could be used to run the code cells.\n",
    "\n",
    "NB: The code below is optional if you already have some experience with machine learn and have these libraries installed.\n"
   ]
  },
  {
   "cell_type": "code",
   "execution_count": 1,
   "metadata": {},
   "outputs": [],
   "source": [
    "# # Run the cell below to install the libraries that we will use for this tutorial\n",
    "# %pip install scikit-learn  # For machine learning algorithms\n",
    "# %pip install numpy  # For matrix operations and other advance mathematics stuff not required for this tutorial\n",
    "# %pip install pandas # For loading and manipulating datasets\n",
    "# %pip install matplotlib  # For making various kinds of plots and charts to visualize data\n",
    "# print(\"Successfully installed all libraries\")\n"
   ]
  },
  {
   "cell_type": "markdown",
   "metadata": {},
   "source": [
    "## Set up the notebook\n",
    "\n",
    "There are a few lines of code that you will need to write the on top of every notebook to import libraries that your code will depend on like those we intalled above.\n"
   ]
  },
  {
   "cell_type": "code",
   "execution_count": 3,
   "metadata": {},
   "outputs": [],
   "source": [
    "# run the code below to import the libraries\n",
    "import numpy as np\n",
    "import pandas as pd\n",
    "import matplotlib.pyplot as plt\n",
    "%matplotlib inline\n",
    "from sklearn.linear_model import LogisticRegression, LinearRegression\n",
    "from sklearn.metrics import r2_score, mean_squared_error, accuracy_score, ConfusionMatrixDisplay\n",
    "from sklearn.model_selection import train_test_split\n",
    "from sklearn.preprocessing import StandardScaler"
   ]
  },
  {
   "cell_type": "markdown",
   "metadata": {},
   "source": [
    "## Load the data\n",
    "\n",
    "It is time to now load the dataset we will be working with. We will use the Pandas library to read the csv file containing our data into a dataframe. (what is a dataframe). Run the cell below to load the data.\n",
    "\n",
    "The dataset we will be working with is a ...\n"
   ]
  },
  {
   "cell_type": "code",
   "execution_count": 4,
   "metadata": {},
   "outputs": [],
   "source": [
    "# Run this cell to load the data.\n",
    "cpicta_dataset_path = \"../data/cpicta_quantseq_with_estimated_ages_dataset.csv\"\n",
    "cpicta_df = pd.read_csv(cpicta_dataset_path, index_col=0)"
   ]
  },
  {
   "cell_type": "markdown",
   "metadata": {},
   "source": [
    "## Examine the data\n",
    "We can begin by inspecting the dataset to check for missing values, assess the size, and understand the distribution of each feature. Identifying any gaps in the data early allows us to handle missing values appropriately and prepare the dataset for analysis.\n",
    "\n",
    "Visualizing the data can also provide insights into how different features relate to the target variable. With only one or two features, plotting relationships directly is manageable, but as the number of features increases, it becomes more challenging to visualize them all in a single plot.\n",
    "\n",
    "To demonstrate data visualization with multiple features, we can simplify by creating plots that represent each feature's unique values and comparing them with the target variable. This approach can help us get a rough sense of how features vary with respect to the target. For example, we could plot each unique feature value on the x-axis and its corresponding target values on the y-axis, which may reveal trends, clusters, or other patterns in the data."
   ]
  },
  {
   "cell_type": "code",
   "execution_count": 5,
   "metadata": {},
   "outputs": [
    {
     "data": {
      "text/html": [
       "<div>\n",
       "<style scoped>\n",
       "    .dataframe tbody tr th:only-of-type {\n",
       "        vertical-align: middle;\n",
       "    }\n",
       "\n",
       "    .dataframe tbody tr th {\n",
       "        vertical-align: top;\n",
       "    }\n",
       "\n",
       "    .dataframe thead th {\n",
       "        text-align: right;\n",
       "    }\n",
       "</style>\n",
       "<table border=\"1\" class=\"dataframe\">\n",
       "  <thead>\n",
       "    <tr style=\"text-align: right;\">\n",
       "      <th></th>\n",
       "      <th>A4GALT</th>\n",
       "      <th>AAAS</th>\n",
       "      <th>AACS</th>\n",
       "      <th>AADAT</th>\n",
       "      <th>AAED1</th>\n",
       "      <th>AAGAB</th>\n",
       "      <th>AAK1</th>\n",
       "      <th>AAMDC</th>\n",
       "      <th>AAMP</th>\n",
       "      <th>AANAT</th>\n",
       "      <th>...</th>\n",
       "      <th>rna52129</th>\n",
       "      <th>rna52130</th>\n",
       "      <th>rna52131</th>\n",
       "      <th>rna52132</th>\n",
       "      <th>rna52133</th>\n",
       "      <th>rna52134</th>\n",
       "      <th>rna52135</th>\n",
       "      <th>rna52136</th>\n",
       "      <th>rna52137</th>\n",
       "      <th>EstAge</th>\n",
       "    </tr>\n",
       "  </thead>\n",
       "  <tbody>\n",
       "    <tr>\n",
       "      <th>A02_F</th>\n",
       "      <td>1</td>\n",
       "      <td>19</td>\n",
       "      <td>4</td>\n",
       "      <td>0</td>\n",
       "      <td>1</td>\n",
       "      <td>110</td>\n",
       "      <td>0</td>\n",
       "      <td>135</td>\n",
       "      <td>140</td>\n",
       "      <td>1</td>\n",
       "      <td>...</td>\n",
       "      <td>0</td>\n",
       "      <td>4</td>\n",
       "      <td>2</td>\n",
       "      <td>0</td>\n",
       "      <td>35</td>\n",
       "      <td>1</td>\n",
       "      <td>4</td>\n",
       "      <td>1</td>\n",
       "      <td>27</td>\n",
       "      <td>4.0</td>\n",
       "    </tr>\n",
       "    <tr>\n",
       "      <th>A03_F</th>\n",
       "      <td>2</td>\n",
       "      <td>18</td>\n",
       "      <td>2</td>\n",
       "      <td>0</td>\n",
       "      <td>2</td>\n",
       "      <td>106</td>\n",
       "      <td>0</td>\n",
       "      <td>122</td>\n",
       "      <td>314</td>\n",
       "      <td>3</td>\n",
       "      <td>...</td>\n",
       "      <td>2</td>\n",
       "      <td>9</td>\n",
       "      <td>1</td>\n",
       "      <td>2</td>\n",
       "      <td>38</td>\n",
       "      <td>2</td>\n",
       "      <td>8</td>\n",
       "      <td>6</td>\n",
       "      <td>35</td>\n",
       "      <td>4.0</td>\n",
       "    </tr>\n",
       "    <tr>\n",
       "      <th>A07_F</th>\n",
       "      <td>4</td>\n",
       "      <td>29</td>\n",
       "      <td>9</td>\n",
       "      <td>0</td>\n",
       "      <td>2</td>\n",
       "      <td>94</td>\n",
       "      <td>2</td>\n",
       "      <td>163</td>\n",
       "      <td>582</td>\n",
       "      <td>1</td>\n",
       "      <td>...</td>\n",
       "      <td>0</td>\n",
       "      <td>1</td>\n",
       "      <td>4</td>\n",
       "      <td>0</td>\n",
       "      <td>14</td>\n",
       "      <td>0</td>\n",
       "      <td>16</td>\n",
       "      <td>1</td>\n",
       "      <td>31</td>\n",
       "      <td>8.0</td>\n",
       "    </tr>\n",
       "    <tr>\n",
       "      <th>A11_F</th>\n",
       "      <td>5</td>\n",
       "      <td>14</td>\n",
       "      <td>4</td>\n",
       "      <td>0</td>\n",
       "      <td>1</td>\n",
       "      <td>71</td>\n",
       "      <td>9</td>\n",
       "      <td>167</td>\n",
       "      <td>345</td>\n",
       "      <td>1</td>\n",
       "      <td>...</td>\n",
       "      <td>7</td>\n",
       "      <td>6</td>\n",
       "      <td>2</td>\n",
       "      <td>0</td>\n",
       "      <td>41</td>\n",
       "      <td>1</td>\n",
       "      <td>27</td>\n",
       "      <td>4</td>\n",
       "      <td>93</td>\n",
       "      <td>9.0</td>\n",
       "    </tr>\n",
       "    <tr>\n",
       "      <th>B01_F</th>\n",
       "      <td>2</td>\n",
       "      <td>11</td>\n",
       "      <td>2</td>\n",
       "      <td>0</td>\n",
       "      <td>1</td>\n",
       "      <td>136</td>\n",
       "      <td>0</td>\n",
       "      <td>93</td>\n",
       "      <td>175</td>\n",
       "      <td>0</td>\n",
       "      <td>...</td>\n",
       "      <td>0</td>\n",
       "      <td>1</td>\n",
       "      <td>1</td>\n",
       "      <td>0</td>\n",
       "      <td>9</td>\n",
       "      <td>0</td>\n",
       "      <td>5</td>\n",
       "      <td>0</td>\n",
       "      <td>41</td>\n",
       "      <td>6.0</td>\n",
       "    </tr>\n",
       "  </tbody>\n",
       "</table>\n",
       "<p>5 rows × 13726 columns</p>\n",
       "</div>"
      ],
      "text/plain": [
       "       A4GALT  AAAS  AACS  AADAT  AAED1  AAGAB  AAK1  AAMDC  AAMP  AANAT  ...  \\\n",
       "A02_F       1    19     4      0      1    110     0    135   140      1  ...   \n",
       "A03_F       2    18     2      0      2    106     0    122   314      3  ...   \n",
       "A07_F       4    29     9      0      2     94     2    163   582      1  ...   \n",
       "A11_F       5    14     4      0      1     71     9    167   345      1  ...   \n",
       "B01_F       2    11     2      0      1    136     0     93   175      0  ...   \n",
       "\n",
       "       rna52129  rna52130  rna52131  rna52132  rna52133  rna52134  rna52135  \\\n",
       "A02_F         0         4         2         0        35         1         4   \n",
       "A03_F         2         9         1         2        38         2         8   \n",
       "A07_F         0         1         4         0        14         0        16   \n",
       "A11_F         7         6         2         0        41         1        27   \n",
       "B01_F         0         1         1         0         9         0         5   \n",
       "\n",
       "       rna52136  rna52137  EstAge  \n",
       "A02_F         1        27     4.0  \n",
       "A03_F         6        35     4.0  \n",
       "A07_F         1        31     8.0  \n",
       "A11_F         4        93     9.0  \n",
       "B01_F         0        41     6.0  \n",
       "\n",
       "[5 rows x 13726 columns]"
      ]
     },
     "execution_count": 5,
     "metadata": {},
     "output_type": "execute_result"
    }
   ],
   "source": [
    "# We only inspect the head\n",
    "# Using head() method prints the first five rows. It is helpful for checking number of columns\n",
    "cpicta_df.head()"
   ]
  },
  {
   "cell_type": "code",
   "execution_count": 6,
   "metadata": {},
   "outputs": [
    {
     "data": {
      "image/png": "[encoded data removed]",
      "text/plain": [
       "<Figure size 640x480 with 1 Axes>"
      ]
     },
     "metadata": {},
     "output_type": "display_data"
    }
   ],
   "source": [
    "# A plot to make a rough estimate of the data distribution\n",
    "from plot_util import scatter_plot\n",
    "\n",
    "scatter_plot(cpicta_df, \"EstAge\", use_limits=True)\n"
   ]
  },
  {
   "cell_type": "markdown",
   "metadata": {},
   "source": [
    "# Linear Regression\n",
    "\n",
    "We will now dive into the our first machine learning algorithm. Supplementary information on linear regression can be found [^1] for those interested."
   ]
  },
  {
   "cell_type": "code",
   "execution_count": 7,
   "metadata": {},
   "outputs": [],
   "source": [
    "# We make a copy of the dataset preserve the original dataset\n",
    "df_copy1 = cpicta_df.copy()\n",
    "# split data into test and train sets\n",
    "target = df_copy1['EstAge']\n",
    "# the remaining parts of the dataset are out features\n",
    "features = df_copy1.drop(columns=['EstAge'])\n",
    "\n",
    "# Split the dataset into training and test sets\n",
    "X_train, X_test, y_train, y_test = train_test_split(features, target.to_numpy(), test_size=0.2, random_state=42, shuffle=True)"
   ]
  },
  {
   "cell_type": "code",
   "execution_count": 8,
   "metadata": {},
   "outputs": [
    {
     "name": "stdout",
     "output_type": "stream",
     "text": [
      "The model score (R^2) is -0.49440617774461315\n",
      "The mean squared error is  78.33834489650708\n"
     ]
    }
   ],
   "source": [
    "# Define a linear regression classifier (model) for our task\n",
    "linreg_clf = LinearRegression() \n",
    "\n",
    "# Use the model to fit (estimate / train) our data\n",
    "linreg_clf.fit(X_train, y_train)\n",
    "\n",
    "# Predict the value of the X_test data using the model\n",
    "y_pred_linreg = linreg_clf.predict(X_test)\n",
    "\n",
    "# Calculate R^2 score: 1 is perfect score\n",
    "score = r2_score(y_test, y_pred_linreg)\n",
    "print(r\"The model score (R^2) is\", score)\n",
    "# Calculate the mean score error\n",
    "mse = mean_squared_error(y_test, y_pred_linreg)\n",
    "print(\"The mean squared error is \", mse)"
   ]
  },
  {
   "cell_type": "code",
   "execution_count": 14,
   "metadata": {
    "scrolled": true
   },
   "outputs": [
    {
     "data": {
      "image/png": "[encoded data removed]",
      "text/plain": [
       "<Figure size 640x480 with 1 Axes>"
      ]
     },
     "metadata": {},
     "output_type": "display_data"
    }
   ],
   "source": [
    "from plot_util import plot_reg, plot_true_vs_pred\n",
    "plot_true_vs_pred(y_test, y_pred_linreg)\n",
    "\n"
   ]
  },
  {
   "cell_type": "markdown",
   "metadata": {},
   "source": [
    "## Scaling can improve performance\n",
    "Features with large ranges can disproportionately influence the model, potentially degrading performance. Feature scaling standardizes the ranges of features, ensuring they contribute equally to the model. Although scikit-learn offers various feature scaling methods, we will only explore the standard scaler. Refer to the footnote for useful links on feature scaling options and guidelines."
   ]
  },
  {
   "cell_type": "code",
   "execution_count": 12,
   "metadata": {},
   "outputs": [
    {
     "name": "stdout",
     "output_type": "stream",
     "text": [
      "The R^2 score of scaled dataset is  0.10022881454230748\n",
      "The mean squared error of scaled dataset is:  47.166952669255885\n",
      "We can see that scaling improve the R^2 score and the mean squared error of the model.\n"
     ]
    }
   ],
   "source": [
    "# Using the StandardSCaler to rescale the model\n",
    "scaler = StandardScaler()\n",
    "\n",
    "# use X_train to fit the scaler, then transform X_train with the scaler\n",
    "X_train_scaled = scaler.fit_transform(X_train) # fit_transform does fit and transform at once\n",
    "# Only transform X_test using the scaler\n",
    "X_test_scaled = scaler.transform(X_test)\n",
    "\n",
    "# put the scaled datasets into the pandas dataframe\n",
    "X_train_scaled_df = pd.DataFrame(X_train_scaled, index=X_train.index, columns=X_train.columns)\n",
    "X_test_scaled_df = pd.DataFrame(X_test_scaled, index=X_test.index, columns=X_test.columns)\n",
    "\n",
    "# fitting the scaled datasets with the previous model\n",
    "linreg_clf.fit(X_train_scaled_df, y_train)\n",
    "\n",
    "# predict the y_test values with model\n",
    "y_pred_scaled = linreg_clf.predict(X_test_scaled_df)\n",
    "\n",
    "# the r2 score\n",
    "scaled_model_score = r2_score(y_test, y_pred_scaled)\n",
    "print(r\"The R^2 score of scaled dataset is \", scaled_model_score)\n",
    "\n",
    "# The mean squared error\n",
    "mse_scaled = mean_squared_error(y_test, y_pred_scaled)\n",
    "print(\"The mean squared error of scaled dataset is: \", mse_scaled)\n",
    "print(r\"We can see that scaling improve the R^2 score and the mean squared error of the model.\")\n"
   ]
  },
  {
   "cell_type": "code",
   "execution_count": null,
   "metadata": {
    "scrolled": true
   },
   "outputs": [],
   "source": [
    "## Plot the graph for the scaled model\n",
    "plot_reg(X_test_scaled_df, y_test, y_pred_scaled)\n",
    "plot_true_vs_pred(y_test, y_pred_scaled)"
   ]
  },
  {
   "cell_type": "markdown",
   "metadata": {},
   "source": [
    "# Logistic Regression\n",
    "For our logistic regression tutorial, we’ll classify turtles into two age groups: **young** (0) and **old** (1). We’ll use the **median estimated age** of the turtles as our threshold for this classification. Turtles with an estimated age less than the median will belong to the young class, while those with ages equal to or greater than the median will be assigned to the old class.\n",
    "\n",
    "First, let’s write code to group the turtles based on this threshold. Refer to the code in the initial cells below to see how to perform this grouping.\n"
   ]
  },
  {
   "cell_type": "code",
   "execution_count": null,
   "metadata": {},
   "outputs": [],
   "source": [
    "# Make a copy of the dataset\n",
    "cpicta_df_copy2 = cpicta_df.copy()\n",
    "\n",
    "# median of EstAge\n",
    "median_age = cpicta_df_copy2[\"EstAge\"].median() # 12.0\n",
    "# Estimate Ages\n",
    "estimated_age = cpicta_df_copy2.EstAge\n",
    "\n",
    "# old turtles: turtles with estimated age >= median_age\n",
    "cpicta_old_df = cpicta_df_copy2[estimated_age >= median_age]\n",
    "cpicta_old_X = cpicta_old_df.drop(columns=['EstAge']) # drop the EstAge column since its our target\n",
    "cpicta_old_y = np.ones((cpicta_old_X.shape[0]), dtype=int)\n",
    "# young_turtles: turtles with estimate age < median_age\n",
    "cpicta_young_df = cpicta_df_copy2[estimated_age < median_age]\n",
    "cpicta_young_X = cpicta_young_df.drop(columns=['EstAge'])\n",
    "cpicta_young_y = np.zeros((cpicta_young_X.shape[0]), dtype=int)\n",
    "\n",
    "\n",
    "# Print out some information about classes\n",
    "print(\"Median turtle age: \", median_age)\n",
    "print(\"Number of old turtle: \", cpicta_old_df.shape[0])\n",
    "print(\"Number of young turtle: \", cpicta_young_df.shape[0])"
   ]
  },
  {
   "cell_type": "code",
   "execution_count": null,
   "metadata": {},
   "outputs": [],
   "source": [
    "# Split old_turtles class into train and test sets\n",
    "X_train_old, X_test_old, y_train_old, y_test_old = train_test_split(\n",
    "    cpicta_old_X, cpicta_old_y, test_size=0.2, random_state=42\n",
    "    )\n",
    "\n",
    "# Split young_turtles class into train and test sets\n",
    "X_train_young, X_test_young, y_train_young, y_test_young = train_test_split(\n",
    "    cpicta_young_X, cpicta_young_y, test_size=0.2, random_state=42\n",
    ")\n",
    "\n",
    "# Join the separate classes into one dataset\n",
    "X_train_logit = pd.concat([X_train_old, X_train_young])\n",
    "X_test_logit = pd.concat([X_test_old, X_test_young])\n",
    "y_train_logit = np.concatenate([y_train_old, y_train_young])\n",
    "y_test_logit = np.concatenate([y_test_old, y_test_young])\n",
    "\n",
    "# A little sanity check for numbers\n",
    "print(\"(#X_train, #y_train) = \", X_train_logit.shape[0], y_train_logit.shape[0])\n",
    "print(\"(#X_test, #y_test) = \", X_test_logit.shape[0], y_test_logit.shape[0])"
   ]
  },
  {
   "cell_type": "code",
   "execution_count": null,
   "metadata": {},
   "outputs": [],
   "source": [
    "# Define a logistic regression model\n",
    "logit_clf = LogisticRegression(solver='liblinear', random_state=42)\n",
    "# Fit the model\n",
    "logit_clf.fit(X_train_logit, y_train_logit)\n",
    "# Predict X_test with the model\n",
    "y_pred_logit = logit_clf.predict(X_test)\n",
    "\n",
    "# Caculate the accuracy score of the model - 1 is the best score\n",
    "# The accuracy gives the fraction of the correct predictions\n",
    "score_logit = accuracy_score(y_test_logit, y_pred_logit)\n",
    "print(f\"The accuracy score of the model is: {score_logit}\")"
   ]
  },
  {
   "cell_type": "code",
   "execution_count": null,
   "metadata": {},
   "outputs": [],
   "source": [
    "# Confusion Matrix\n",
    "labels = [\"Young\", \"Old\"]\n",
    "disp = ConfusionMatrixDisplay.from_predictions(y_true=y_test_logit, y_pred=y_pred_logit, display_labels=labels)\n",
    "disp.ax_.set_title(\"Classification of cpicta into old and young using quantseq data\")\n",
    "\n",
    "plt.show()\n"
   ]
  },
  {
   "cell_type": "markdown",
   "metadata": {},
   "source": [
    "## Scaling the dataset for the Logit model\n",
    "Similar to linear regression, we can also scale the dataset used to fit the logistic regression model by simply using the scaler defined above and then repeat the other codes for logistic regression."
   ]
  },
  {
   "cell_type": "code",
   "execution_count": null,
   "metadata": {},
   "outputs": [],
   "source": [
    "# scale the dataset for the logit model\n",
    "scaler_logit = StandardScaler()\n",
    "X_train_logit_scaled = scaler_logit.fit_transform(X_train_logit)\n",
    "X_test_logit_scaled = scaler_logit.transform(X_test_logit)\n",
    "\n",
    "# Fit the model\n",
    "logit_clf.fit(X_train_logit_scaled, y_train_logit)\n",
    "# Predict X_test with the model\n",
    "y_pred_logit_scaled = logit_clf.predict(X_test_logit_scaled)\n",
    "\n",
    "# Caculate the accuracy score of the model - 1 is the best score\n",
    "# The accuracy gives the fraction of the correct predictions\n",
    "score_logit_scaled = accuracy_score(y_test_logit, y_pred_logit_scaled)\n",
    "print(f\"The accuracy score of the model is: {score_logit_scaled}\")"
   ]
  },
  {
   "cell_type": "markdown",
   "metadata": {},
   "source": [
    "## Further Reading\n",
    "0. [Introduction to Kaggle (YouTube)](https://www.youtube.com/watch?v=u9MIwoFWXVg&ab_channel=GeeksforGeeks) and [Kaggle Learn](kaggle.com/learn)\n",
    "1. [Linear Regression](https://www.geeksforgeeks.org/ml-linear-regression/)\n",
    "2. [Logistic Regression](https://www.geeksforgeeks.org/understanding-logistic-regression/?ref=header_outind)\n",
    "3. [Scikit-Learn's Library of Machine Learning tools](https://scikit-learn.org/stable/index.html)\n",
    "4. [Standford Machine Learning course (YoutTube)](https://www.youtube.com/playlist?list=PLoROMvodv4rMiGQp3WXShtMGgzqpfVfbU)"
   ]
  },
  {
   "cell_type": "code",
   "execution_count": null,
   "metadata": {},
   "outputs": [],
   "source": []
  }
 ],
 "metadata": {
  "kernelspec": {
   "display_name": "Python 3 (ipykernel)",
   "language": "python",
   "name": "python3"
  },
  "language_info": {
   "codemirror_mode": {
    "name": "ipython",
    "version": 3
   },
   "file_extension": ".py",
   "mimetype": "text/x-python",
   "name": "python",
   "nbconvert_exporter": "python",
   "pygments_lexer": "ipython3",
   "version": "3.12.4"
  }
 },
 "nbformat": 4,
 "nbformat_minor": 4
}
